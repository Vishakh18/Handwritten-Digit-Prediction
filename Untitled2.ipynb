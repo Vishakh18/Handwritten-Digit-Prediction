{
  "nbformat": 4,
  "nbformat_minor": 0,
  "metadata": {
    "colab": {
      "provenance": [],
      "authorship_tag": "ABX9TyNaDeXSTX+xvKVXkXAKeoqo",
      "include_colab_link": true
    },
    "kernelspec": {
      "name": "python3",
      "display_name": "Python 3"
    },
    "language_info": {
      "name": "python"
    }
  },
  "cells": [
    {
      "cell_type": "markdown",
      "metadata": {
        "id": "view-in-github",
        "colab_type": "text"
      },
      "source": [
        "<a href=\"https://colab.research.google.com/github/Vishakh18/Handwritten-Digit-Prediction/blob/main/Untitled2.ipynb\" target=\"_parent\"><img src=\"https://colab.research.google.com/assets/colab-badge.svg\" alt=\"Open In Colab\"/></a>"
      ]
    },
    {
      "cell_type": "markdown",
      "source": [
        "# **Hand Written digit prediction - Classification Analysis**"
      ],
      "metadata": {
        "id": "5RP5wso4NyqN"
      }
    },
    {
      "cell_type": "markdown",
      "source": [
        "The digits dataset consist of 8x8 pixel images of digits.The images attribute of dataset stores 8x8 arrays of grayscale values for each image. We will use these arrays to visualize the first 4 images. The target attribute of the datasset stores the digit each image represents.**bold text**"
      ],
      "metadata": {
        "id": "GlUa4cGHNwkM"
      }
    },
    {
      "cell_type": "markdown",
      "source": [
        "# **Import Libraries**"
      ],
      "metadata": {
        "id": "gS7OD0XbQawm"
      }
    },
    {
      "cell_type": "code",
      "execution_count": 2,
      "metadata": {
        "id": "jS5srQexMQUq"
      },
      "outputs": [],
      "source": [
        "import pandas as pd\n",
        "import matplotlib.pyplot as plt\n",
        "import numpy as np\n",
        "\n",
        "\n",
        "\n"
      ]
    },
    {
      "cell_type": "markdown",
      "source": [
        "# Import Data"
      ],
      "metadata": {
        "id": "NoGMCugkQo0d"
      }
    },
    {
      "cell_type": "code",
      "source": [
        "\n",
        "from sklearn.datasets import load_digits"
      ],
      "metadata": {
        "id": "Ko6Z289sM3Fu"
      },
      "execution_count": 3,
      "outputs": []
    },
    {
      "cell_type": "code",
      "source": [
        "\n",
        "df=load_digits()\n"
      ],
      "metadata": {
        "id": "KAz8j6xbM5zQ"
      },
      "execution_count": 6,
      "outputs": []
    },
    {
      "cell_type": "code",
      "source": [
        "_, axes=plt.subplots(nrows=1,ncols=4,figsize=(10,3))\n",
        "for ar,image,label in zip(axes,df.images,df.target):\n",
        "       ar.set_axis_off()\n",
        "       ar.imshow(image,cmap=plt.cm.gray_r,interpolation=\"nearest\")\n",
        "       ar.set_title(\"training %i\" % label)\n",
        ""
      ],
      "metadata": {
        "colab": {
          "base_uri": "https://localhost:8080/",
          "height": 192
        },
        "id": "D0PdB-vfM1h2",
        "outputId": "1e21a513-5376-4de2-b512-8753f06946f1"
      },
      "execution_count": 5,
      "outputs": [
        {
          "output_type": "display_data",
          "data": {
            "text/plain": [
              "<Figure size 1000x300 with 4 Axes>"
            ],
            "image/png": "[encoded data removed]"
          },
          "metadata": {}
        }
      ]
    },
    {
      "cell_type": "markdown",
      "source": [
        "# **Data Preprocessing**"
      ],
      "metadata": {
        "id": "Lc8rpHT7RGCo"
      }
    },
    {
      "cell_type": "code",
      "source": [
        "df.images.shape"
      ],
      "metadata": {
        "colab": {
          "base_uri": "https://localhost:8080/"
        },
        "id": "HV212kTdSeC-",
        "outputId": "292e737c-2ee2-44c3-ce98-6466768afb9f"
      },
      "execution_count": 7,
      "outputs": [
        {
          "output_type": "execute_result",
          "data": {
            "text/plain": [
              "(1797, 8, 8)"
            ]
          },
          "metadata": {},
          "execution_count": 7
        }
      ]
    },
    {
      "cell_type": "code",
      "source": [
        "df.images[0]"
      ],
      "metadata": {
        "colab": {
          "base_uri": "https://localhost:8080/"
        },
        "id": "C8_kUoPFSi7_",
        "outputId": "7b9b2142-ccde-4b9a-e01e-e42f277ab3b0"
      },
      "execution_count": 8,
      "outputs": [
        {
          "output_type": "execute_result",
          "data": {
            "text/plain": [
              "array([[ 0.,  0.,  5., 13.,  9.,  1.,  0.,  0.],\n",
              "       [ 0.,  0., 13., 15., 10., 15.,  5.,  0.],\n",
              "       [ 0.,  3., 15.,  2.,  0., 11.,  8.,  0.],\n",
              "       [ 0.,  4., 12.,  0.,  0.,  8.,  8.,  0.],\n",
              "       [ 0.,  5.,  8.,  0.,  0.,  9.,  8.,  0.],\n",
              "       [ 0.,  4., 11.,  0.,  1., 12.,  7.,  0.],\n",
              "       [ 0.,  2., 14.,  5., 10., 12.,  0.,  0.],\n",
              "       [ 0.,  0.,  6., 13., 10.,  0.,  0.,  0.]])"
            ]
          },
          "metadata": {},
          "execution_count": 8
        }
      ]
    },
    {
      "cell_type": "code",
      "source": [
        "df.images[0].shape"
      ],
      "metadata": {
        "colab": {
          "base_uri": "https://localhost:8080/"
        },
        "id": "OVGE6E64SnP0",
        "outputId": "ea45600d-38cb-4e97-db35-4f160b5b89ac"
      },
      "execution_count": 11,
      "outputs": [
        {
          "output_type": "execute_result",
          "data": {
            "text/plain": [
              "(8, 8)"
            ]
          },
          "metadata": {},
          "execution_count": 11
        }
      ]
    },
    {
      "cell_type": "code",
      "source": [
        "len(df.images)"
      ],
      "metadata": {
        "colab": {
          "base_uri": "https://localhost:8080/"
        },
        "id": "xrE68k5cSwy-",
        "outputId": "e6f59921-b251-46f3-f11e-4649cbad7696"
      },
      "execution_count": 12,
      "outputs": [
        {
          "output_type": "execute_result",
          "data": {
            "text/plain": [
              "1797"
            ]
          },
          "metadata": {},
          "execution_count": 12
        }
      ]
    },
    {
      "cell_type": "code",
      "source": [
        "n_samples=len(df.images)\n",
        "data=df.images.reshape((n_samples,-1))"
      ],
      "metadata": {
        "id": "3C3878diS2WN"
      },
      "execution_count": 13,
      "outputs": []
    },
    {
      "cell_type": "code",
      "source": [
        "data[0]"
      ],
      "metadata": {
        "colab": {
          "base_uri": "https://localhost:8080/"
        },
        "id": "6WyBMcyOTB97",
        "outputId": "659ba619-1d19-4513-822b-75ad9d393f52"
      },
      "execution_count": 14,
      "outputs": [
        {
          "output_type": "execute_result",
          "data": {
            "text/plain": [
              "array([ 0.,  0.,  5., 13.,  9.,  1.,  0.,  0.,  0.,  0., 13., 15., 10.,\n",
              "       15.,  5.,  0.,  0.,  3., 15.,  2.,  0., 11.,  8.,  0.,  0.,  4.,\n",
              "       12.,  0.,  0.,  8.,  8.,  0.,  0.,  5.,  8.,  0.,  0.,  9.,  8.,\n",
              "        0.,  0.,  4., 11.,  0.,  1., 12.,  7.,  0.,  0.,  2., 14.,  5.,\n",
              "       10., 12.,  0.,  0.,  0.,  0.,  6., 13., 10.,  0.,  0.,  0.])"
            ]
          },
          "metadata": {},
          "execution_count": 14
        }
      ]
    },
    {
      "cell_type": "code",
      "source": [
        "data[0].shape"
      ],
      "metadata": {
        "colab": {
          "base_uri": "https://localhost:8080/"
        },
        "id": "6vpNw2wtTESX",
        "outputId": "30ac94e1-b087-4d6d-e17e-4a2bd345ea08"
      },
      "execution_count": 15,
      "outputs": [
        {
          "output_type": "execute_result",
          "data": {
            "text/plain": [
              "(64,)"
            ]
          },
          "metadata": {},
          "execution_count": 15
        }
      ]
    },
    {
      "cell_type": "code",
      "source": [
        "data.shape"
      ],
      "metadata": {
        "colab": {
          "base_uri": "https://localhost:8080/"
        },
        "id": "mrdkY_STTIDi",
        "outputId": "3c861159-7f83-438a-f589-22b3f67da8a4"
      },
      "execution_count": 16,
      "outputs": [
        {
          "output_type": "execute_result",
          "data": {
            "text/plain": [
              "(1797, 64)"
            ]
          },
          "metadata": {},
          "execution_count": 16
        }
      ]
    },
    {
      "cell_type": "markdown",
      "source": [
        "# **Scaling Image Data**"
      ],
      "metadata": {
        "id": "gJADP7anTM98"
      }
    },
    {
      "cell_type": "code",
      "source": [
        "data.min()"
      ],
      "metadata": {
        "colab": {
          "base_uri": "https://localhost:8080/"
        },
        "id": "J5JQCXPqTQG9",
        "outputId": "48362a30-2d9a-4218-88ef-488b80fb5e93"
      },
      "execution_count": 17,
      "outputs": [
        {
          "output_type": "execute_result",
          "data": {
            "text/plain": [
              "0.0"
            ]
          },
          "metadata": {},
          "execution_count": 17
        }
      ]
    },
    {
      "cell_type": "code",
      "source": [
        "data.max()"
      ],
      "metadata": {
        "colab": {
          "base_uri": "https://localhost:8080/"
        },
        "id": "gJ8ZqZYATSCZ",
        "outputId": "7a425c15-4d82-42bd-868c-c60a500375e5"
      },
      "execution_count": 18,
      "outputs": [
        {
          "output_type": "execute_result",
          "data": {
            "text/plain": [
              "16.0"
            ]
          },
          "metadata": {},
          "execution_count": 18
        }
      ]
    },
    {
      "cell_type": "code",
      "source": [
        "data=data/16"
      ],
      "metadata": {
        "id": "WuGa4aYnTTfN"
      },
      "execution_count": 19,
      "outputs": []
    },
    {
      "cell_type": "code",
      "source": [
        "data.min()"
      ],
      "metadata": {
        "colab": {
          "base_uri": "https://localhost:8080/"
        },
        "id": "HdHSQTArTYbb",
        "outputId": "04429d02-b228-448a-887b-415875764815"
      },
      "execution_count": 20,
      "outputs": [
        {
          "output_type": "execute_result",
          "data": {
            "text/plain": [
              "0.0"
            ]
          },
          "metadata": {},
          "execution_count": 20
        }
      ]
    },
    {
      "cell_type": "code",
      "source": [
        "data.max()"
      ],
      "metadata": {
        "colab": {
          "base_uri": "https://localhost:8080/"
        },
        "id": "IR15bqkYTbUn",
        "outputId": "30205b0b-e8b9-4b7d-d3d4-e3e8c8992fb3"
      },
      "execution_count": 21,
      "outputs": [
        {
          "output_type": "execute_result",
          "data": {
            "text/plain": [
              "1.0"
            ]
          },
          "metadata": {},
          "execution_count": 21
        }
      ]
    },
    {
      "cell_type": "code",
      "source": [
        "data[0]"
      ],
      "metadata": {
        "colab": {
          "base_uri": "https://localhost:8080/"
        },
        "id": "pq_aobAOTdMR",
        "outputId": "bf12e140-4278-4b17-9d9f-b62da47446a4"
      },
      "execution_count": 22,
      "outputs": [
        {
          "output_type": "execute_result",
          "data": {
            "text/plain": [
              "array([0.    , 0.    , 0.3125, 0.8125, 0.5625, 0.0625, 0.    , 0.    ,\n",
              "       0.    , 0.    , 0.8125, 0.9375, 0.625 , 0.9375, 0.3125, 0.    ,\n",
              "       0.    , 0.1875, 0.9375, 0.125 , 0.    , 0.6875, 0.5   , 0.    ,\n",
              "       0.    , 0.25  , 0.75  , 0.    , 0.    , 0.5   , 0.5   , 0.    ,\n",
              "       0.    , 0.3125, 0.5   , 0.    , 0.    , 0.5625, 0.5   , 0.    ,\n",
              "       0.    , 0.25  , 0.6875, 0.    , 0.0625, 0.75  , 0.4375, 0.    ,\n",
              "       0.    , 0.125 , 0.875 , 0.3125, 0.625 , 0.75  , 0.    , 0.    ,\n",
              "       0.    , 0.    , 0.375 , 0.8125, 0.625 , 0.    , 0.    , 0.    ])"
            ]
          },
          "metadata": {},
          "execution_count": 22
        }
      ]
    },
    {
      "cell_type": "markdown",
      "source": [
        "# **Train Teat Split Data**"
      ],
      "metadata": {
        "id": "uCzNSPigThwz"
      }
    },
    {
      "cell_type": "code",
      "source": [
        "from sklearn.model_selection import train_test_split"
      ],
      "metadata": {
        "id": "x8qyaTIETl7l"
      },
      "execution_count": 23,
      "outputs": []
    },
    {
      "cell_type": "code",
      "source": [
        "x_train,x_test,y_train,y_test=train_test_split(data,df.target,test_size=0.3)"
      ],
      "metadata": {
        "id": "mYuqWsm0TsXO"
      },
      "execution_count": 24,
      "outputs": []
    },
    {
      "cell_type": "code",
      "source": [
        "x_train.shape,x_test.shape,y_train.shape,y_test.shape"
      ],
      "metadata": {
        "colab": {
          "base_uri": "https://localhost:8080/"
        },
        "id": "aGbkv8TJT4mO",
        "outputId": "1d88a75b-d5a5-4f4e-840c-2c8fbd49d9dd"
      },
      "execution_count": 25,
      "outputs": [
        {
          "output_type": "execute_result",
          "data": {
            "text/plain": [
              "((1257, 64), (540, 64), (1257,), (540,))"
            ]
          },
          "metadata": {},
          "execution_count": 25
        }
      ]
    },
    {
      "cell_type": "markdown",
      "source": [
        "# **Random Forest Model**"
      ],
      "metadata": {
        "id": "sPQmjnMrUBtf"
      }
    },
    {
      "cell_type": "code",
      "source": [
        "from sklearn.ensemble import RandomForestClassifier"
      ],
      "metadata": {
        "id": "EwKENkcjUGW0"
      },
      "execution_count": 26,
      "outputs": []
    },
    {
      "cell_type": "code",
      "source": [
        "rf=RandomForestClassifier()"
      ],
      "metadata": {
        "id": "_CeejWrmUL8T"
      },
      "execution_count": 27,
      "outputs": []
    },
    {
      "cell_type": "code",
      "source": [
        "rf.fit(x_train,y_train)"
      ],
      "metadata": {
        "colab": {
          "base_uri": "https://localhost:8080/",
          "height": 74
        },
        "id": "0GBTCwVZUQTK",
        "outputId": "505e54be-4527-40d3-c61b-bf7c25f3ab83"
      },
      "execution_count": 28,
      "outputs": [
        {
          "output_type": "execute_result",
          "data": {
            "text/plain": [
              "RandomForestClassifier()"
            ],
            "text/html": [
              "<style>#sk-container-id-1 {color: black;}#sk-container-id-1 pre{padding: 0;}#sk-container-id-1 div.sk-toggleable {background-color: white;}#sk-container-id-1 label.sk-toggleable__label {cursor: pointer;display: block;width: 100%;margin-bottom: 0;padding: 0.3em;box-sizing: border-box;text-align: center;}#sk-container-id-1 label.sk-toggleable__label-arrow:before {content: \"▸\";float: left;margin-right: 0.25em;color: #696969;}#sk-container-id-1 label.sk-toggleable__label-arrow:hover:before {color: black;}#sk-container-id-1 div.sk-estimator:hover label.sk-toggleable__label-arrow:before {color: black;}#sk-container-id-1 div.sk-toggleable__content {max-height: 0;max-width: 0;overflow: hidden;text-align: left;background-color: #f0f8ff;}#sk-container-id-1 div.sk-toggleable__content pre {margin: 0.2em;color: black;border-radius: 0.25em;background-color: #f0f8ff;}#sk-container-id-1 input.sk-toggleable__control:checked~div.sk-toggleable__content {max-height: 200px;max-width: 100%;overflow: auto;}#sk-container-id-1 input.sk-toggleable__control:checked~label.sk-toggleable__label-arrow:before {content: \"▾\";}#sk-container-id-1 div.sk-estimator input.sk-toggleable__control:checked~label.sk-toggleable__label {background-color: #d4ebff;}#sk-container-id-1 div.sk-label input.sk-toggleable__control:checked~label.sk-toggleable__label {background-color: #d4ebff;}#sk-container-id-1 input.sk-hidden--visually {border: 0;clip: rect(1px 1px 1px 1px);clip: rect(1px, 1px, 1px, 1px);height: 1px;margin: -1px;overflow: hidden;padding: 0;position: absolute;width: 1px;}#sk-container-id-1 div.sk-estimator {font-family: monospace;background-color: #f0f8ff;border: 1px dotted black;border-radius: 0.25em;box-sizing: border-box;margin-bottom: 0.5em;}#sk-container-id-1 div.sk-estimator:hover {background-color: #d4ebff;}#sk-container-id-1 div.sk-parallel-item::after {content: \"\";width: 100%;border-bottom: 1px solid gray;flex-grow: 1;}#sk-container-id-1 div.sk-label:hover label.sk-toggleable__label {background-color: #d4ebff;}#sk-container-id-1 div.sk-serial::before {content: \"\";position: absolute;border-left: 1px solid gray;box-sizing: border-box;top: 0;bottom: 0;left: 50%;z-index: 0;}#sk-container-id-1 div.sk-serial {display: flex;flex-direction: column;align-items: center;background-color: white;padding-right: 0.2em;padding-left: 0.2em;position: relative;}#sk-container-id-1 div.sk-item {position: relative;z-index: 1;}#sk-container-id-1 div.sk-parallel {display: flex;align-items: stretch;justify-content: center;background-color: white;position: relative;}#sk-container-id-1 div.sk-item::before, #sk-container-id-1 div.sk-parallel-item::before {content: \"\";position: absolute;border-left: 1px solid gray;box-sizing: border-box;top: 0;bottom: 0;left: 50%;z-index: -1;}#sk-container-id-1 div.sk-parallel-item {display: flex;flex-direction: column;z-index: 1;position: relative;background-color: white;}#sk-container-id-1 div.sk-parallel-item:first-child::after {align-self: flex-end;width: 50%;}#sk-container-id-1 div.sk-parallel-item:last-child::after {align-self: flex-start;width: 50%;}#sk-container-id-1 div.sk-parallel-item:only-child::after {width: 0;}#sk-container-id-1 div.sk-dashed-wrapped {border: 1px dashed gray;margin: 0 0.4em 0.5em 0.4em;box-sizing: border-box;padding-bottom: 0.4em;background-color: white;}#sk-container-id-1 div.sk-label label {font-family: monospace;font-weight: bold;display: inline-block;line-height: 1.2em;}#sk-container-id-1 div.sk-label-container {text-align: center;}#sk-container-id-1 div.sk-container {/* jupyter's `normalize.less` sets `[hidden] { display: none; }` but bootstrap.min.css set `[hidden] { display: none !important; }` so we also need the `!important` here to be able to override the default hidden behavior on the sphinx rendered scikit-learn.org. See: https://github.com/scikit-learn/scikit-learn/issues/21755 */display: inline-block !important;position: relative;}#sk-container-id-1 div.sk-text-repr-fallback {display: none;}</style><div id=\"sk-container-id-1\" class=\"sk-top-container\"><div class=\"sk-text-repr-fallback\"><pre>RandomForestClassifier()</pre><b>In a Jupyter environment, please rerun this cell to show the HTML representation or trust the notebook. <br />On GitHub, the HTML representation is unable to render, please try loading this page with nbviewer.org.</b></div><div class=\"sk-container\" hidden><div class=\"sk-item\"><div class=\"sk-estimator sk-toggleable\"><input class=\"sk-toggleable__control sk-hidden--visually\" id=\"sk-estimator-id-1\" type=\"checkbox\" checked><label for=\"sk-estimator-id-1\" class=\"sk-toggleable__label sk-toggleable__label-arrow\">RandomForestClassifier</label><div class=\"sk-toggleable__content\"><pre>RandomForestClassifier()</pre></div></div></div></div></div>"
            ]
          },
          "metadata": {},
          "execution_count": 28
        }
      ]
    },
    {
      "cell_type": "markdown",
      "source": [
        "# **Predict Test Data**"
      ],
      "metadata": {
        "id": "IESy9YGKUW_4"
      }
    },
    {
      "cell_type": "code",
      "source": [
        "y_pred=rf.predict(x_test)"
      ],
      "metadata": {
        "id": "bZlkkBq3UdAM"
      },
      "execution_count": 29,
      "outputs": []
    },
    {
      "cell_type": "code",
      "source": [
        "y_pred"
      ],
      "metadata": {
        "colab": {
          "base_uri": "https://localhost:8080/"
        },
        "id": "aiiCFWT_Uh8u",
        "outputId": "0c4bb87f-b445-43d2-ff42-78a540a16664"
      },
      "execution_count": 30,
      "outputs": [
        {
          "output_type": "execute_result",
          "data": {
            "text/plain": [
              "array([0, 6, 0, 9, 4, 6, 5, 4, 8, 0, 5, 6, 3, 4, 9, 4, 7, 2, 6, 2, 9, 7,\n",
              "       3, 9, 1, 4, 4, 3, 4, 7, 5, 2, 5, 9, 3, 3, 7, 1, 0, 8, 0, 1, 4, 0,\n",
              "       9, 9, 2, 9, 0, 3, 5, 2, 5, 4, 1, 2, 6, 4, 1, 8, 1, 4, 3, 2, 9, 6,\n",
              "       1, 7, 9, 2, 3, 7, 3, 4, 8, 8, 2, 2, 0, 3, 4, 3, 4, 4, 2, 7, 8, 0,\n",
              "       2, 3, 8, 4, 6, 1, 1, 9, 6, 0, 6, 8, 6, 8, 0, 8, 4, 3, 7, 7, 7, 1,\n",
              "       4, 9, 4, 4, 4, 9, 2, 5, 2, 2, 8, 1, 7, 9, 5, 7, 2, 3, 4, 6, 5, 6,\n",
              "       1, 7, 3, 0, 0, 2, 2, 3, 7, 1, 5, 9, 5, 7, 6, 1, 6, 1, 1, 5, 2, 7,\n",
              "       2, 8, 1, 4, 1, 0, 0, 3, 0, 2, 9, 9, 8, 6, 3, 7, 3, 2, 5, 2, 7, 9,\n",
              "       3, 1, 0, 7, 1, 0, 8, 3, 4, 5, 0, 6, 8, 7, 1, 5, 2, 0, 8, 9, 1, 7,\n",
              "       7, 9, 5, 1, 7, 4, 5, 7, 9, 8, 9, 2, 8, 3, 8, 8, 5, 3, 7, 2, 6, 4,\n",
              "       3, 2, 3, 0, 5, 9, 4, 0, 1, 9, 8, 7, 9, 4, 9, 6, 9, 6, 2, 3, 3, 1,\n",
              "       1, 7, 8, 1, 0, 7, 0, 5, 9, 7, 8, 7, 3, 4, 0, 3, 1, 5, 8, 7, 5, 6,\n",
              "       9, 4, 0, 9, 1, 6, 9, 3, 1, 6, 6, 3, 0, 6, 9, 6, 2, 1, 1, 2, 7, 9,\n",
              "       9, 8, 0, 7, 4, 1, 9, 6, 4, 7, 8, 1, 1, 9, 4, 0, 8, 4, 4, 2, 7, 1,\n",
              "       2, 4, 0, 7, 2, 9, 6, 8, 3, 4, 3, 6, 0, 5, 6, 1, 8, 8, 5, 3, 1, 4,\n",
              "       1, 4, 5, 1, 3, 6, 2, 2, 1, 3, 1, 5, 4, 8, 2, 5, 1, 1, 4, 6, 4, 7,\n",
              "       4, 2, 6, 9, 1, 4, 0, 9, 5, 8, 7, 6, 8, 0, 4, 1, 4, 4, 5, 6, 3, 8,\n",
              "       3, 5, 4, 9, 0, 8, 3, 4, 6, 9, 2, 0, 8, 0, 3, 1, 0, 1, 1, 5, 8, 3,\n",
              "       7, 7, 8, 4, 5, 8, 4, 0, 7, 6, 5, 3, 9, 2, 6, 4, 7, 5, 0, 2, 6, 8,\n",
              "       6, 9, 1, 1, 5, 6, 2, 7, 9, 4, 6, 8, 2, 3, 7, 8, 4, 4, 8, 6, 9, 3,\n",
              "       7, 4, 9, 2, 6, 3, 5, 7, 2, 3, 3, 7, 1, 8, 8, 5, 4, 3, 4, 2, 5, 9,\n",
              "       8, 1, 8, 7, 6, 3, 0, 5, 5, 1, 6, 0, 7, 1, 5, 0, 8, 4, 7, 3, 3, 9,\n",
              "       0, 5, 7, 4, 6, 0, 2, 9, 2, 6, 8, 6, 3, 1, 6, 9, 3, 8, 2, 6, 1, 5,\n",
              "       9, 6, 9, 3, 1, 7, 8, 1, 0, 2, 7, 6, 8, 2, 0, 3, 7, 5, 0, 5, 1, 6,\n",
              "       0, 8, 8, 2, 9, 6, 5, 3, 5, 5, 9, 7])"
            ]
          },
          "metadata": {},
          "execution_count": 30
        }
      ]
    },
    {
      "cell_type": "markdown",
      "source": [
        "# **Model Accuracy**"
      ],
      "metadata": {
        "id": "-1IPr1GFUpid"
      }
    },
    {
      "cell_type": "code",
      "source": [
        "from sklearn.metrics import confusion_matrix,classification_report"
      ],
      "metadata": {
        "id": "7IdfW45dUuDO"
      },
      "execution_count": 31,
      "outputs": []
    },
    {
      "cell_type": "code",
      "source": [
        "confusion_matrix(y_test,y_pred)"
      ],
      "metadata": {
        "colab": {
          "base_uri": "https://localhost:8080/"
        },
        "id": "jniQ_uLeU8pR",
        "outputId": "61a8ebd7-af07-4c9d-e732-27367a7eb050"
      },
      "execution_count": 32,
      "outputs": [
        {
          "output_type": "execute_result",
          "data": {
            "text/plain": [
              "array([[48,  0,  0,  0,  0,  0,  0,  0,  0,  0],\n",
              "       [ 0, 56,  0,  0,  0,  0,  0,  0,  0,  0],\n",
              "       [ 0,  1, 51,  0,  0,  0,  0,  0,  0,  0],\n",
              "       [ 0,  0,  0, 55,  0,  0,  0,  0,  0,  0],\n",
              "       [ 0,  0,  0,  0, 60,  0,  0,  0,  0,  0],\n",
              "       [ 0,  0,  0,  0,  0, 46,  0,  0,  0,  1],\n",
              "       [ 0,  0,  0,  0,  0,  1, 54,  0,  0,  0],\n",
              "       [ 0,  0,  0,  0,  0,  0,  0, 53,  0,  1],\n",
              "       [ 0,  3,  0,  0,  0,  0,  0,  1, 52,  0],\n",
              "       [ 0,  0,  0,  1,  0,  1,  0,  1,  2, 52]])"
            ]
          },
          "metadata": {},
          "execution_count": 32
        }
      ]
    },
    {
      "cell_type": "code",
      "source": [
        "print(classification_report(y_test,y_pred))"
      ],
      "metadata": {
        "colab": {
          "base_uri": "https://localhost:8080/"
        },
        "id": "ixXG-mIgVDVG",
        "outputId": "93bbcfba-283d-44a7-dee0-6d61174b0258"
      },
      "execution_count": 33,
      "outputs": [
        {
          "output_type": "stream",
          "name": "stdout",
          "text": [
            "              precision    recall  f1-score   support\n",
            "\n",
            "           0       1.00      1.00      1.00        48\n",
            "           1       0.93      1.00      0.97        56\n",
            "           2       1.00      0.98      0.99        52\n",
            "           3       0.98      1.00      0.99        55\n",
            "           4       1.00      1.00      1.00        60\n",
            "           5       0.96      0.98      0.97        47\n",
            "           6       1.00      0.98      0.99        55\n",
            "           7       0.96      0.98      0.97        54\n",
            "           8       0.96      0.93      0.95        56\n",
            "           9       0.96      0.91      0.94        57\n",
            "\n",
            "    accuracy                           0.98       540\n",
            "   macro avg       0.98      0.98      0.98       540\n",
            "weighted avg       0.98      0.98      0.98       540\n",
            "\n"
          ]
        }
      ]
    },
    {
      "cell_type": "markdown",
      "source": [
        "# **Explaination**"
      ],
      "metadata": {
        "id": "jkuLOUGYXRaR"
      }
    },
    {
      "cell_type": "markdown",
      "source": [
        "1.The code begins by importing the necessary libraries and loading the \"load_digits\" dataset. The dataset is then visualized using matplotlib."
      ],
      "metadata": {
        "id": "TlL9Q1bOXWWx"
      }
    },
    {
      "cell_type": "markdown",
      "source": [
        "2.Next, the data is preprocessed by reshaping the images and scaling the pixel values. The target variable (y) and feature variables (X) are defined."
      ],
      "metadata": {
        "id": "slEG3XstYQd7"
      }
    },
    {
      "cell_type": "markdown",
      "source": [
        "3.The data is split into training and testing sets using the train_test_split function."
      ],
      "metadata": {
        "id": "Xcc1sjDBaHvE"
      }
    },
    {
      "cell_type": "markdown",
      "source": [
        "4.A Random Forest Classifier model is created and trained using the training data"
      ],
      "metadata": {
        "id": "nqoQDfimaKCP"
      }
    },
    {
      "cell_type": "markdown",
      "source": [
        "5.The model is evaluated by predicting the digits for the test data and calculating the confusion matrix and classification report."
      ],
      "metadata": {
        "id": "OBgaMkqpaMo2"
      }
    },
    {
      "cell_type": "markdown",
      "source": [
        "6.Finally, the model can be used for prediction on new handwritten digits by providing the new data to the trained model."
      ],
      "metadata": {
        "id": "HlF5x4koaSLQ"
      }
    }
  ]
}